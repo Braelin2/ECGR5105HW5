{
  "nbformat": 4,
  "nbformat_minor": 0,
  "metadata": {
    "colab": {
      "provenance": [],
      "authorship_tag": "ABX9TyPoOgD6SZ7YwPe1opqAvNxP",
      "include_colab_link": true
    },
    "kernelspec": {
      "name": "python3",
      "display_name": "Python 3"
    },
    "language_info": {
      "name": "python"
    }
  },
  "cells": [
    {
      "cell_type": "markdown",
      "metadata": {
        "id": "view-in-github",
        "colab_type": "text"
      },
      "source": [
        "<a href=\"https://colab.research.google.com/github/Braelin2/ECGR5105HW5/blob/main/ECGR5105_HW5_P1.ipynb\" target=\"_parent\"><img src=\"https://colab.research.google.com/assets/colab-badge.svg\" alt=\"Open In Colab\"/></a>"
      ]
    },
    {
      "cell_type": "code",
      "execution_count": 33,
      "metadata": {
        "id": "GYV75zUqG7A6"
      },
      "outputs": [],
      "source": [
        "import numpy as np\n",
        "import pandas as pd\n",
        "import matplotlib.pyplot as plt\n",
        "import seaborn as sns\n",
        "import torch as torch\n",
        "import tensorflow as tf\n",
        "import torch.optim as optim"
      ]
    },
    {
      "cell_type": "code",
      "source": [
        "# In[2]:\n",
        "t_c = [0.5, 14.0, 15.0, 28.0, 11.0, 8.0, 3.0, -4.0, 6.0, 13.0, 21.0]\n",
        "t_u = [35.7, 55.9, 58.2, 81.9, 56.3, 48.9, 33.9, 21.8, 48.4, 60.4, 68.4]\n",
        "t_c = torch.tensor(t_c)\n",
        "t_u = torch.tensor(t_u)\n",
        "\n",
        "t_un  = (t_u - torch.mean(t_u))/torch.std(t_u)\n"
      ],
      "metadata": {
        "id": "hRaw-CoHHNwY"
      },
      "execution_count": 58,
      "outputs": []
    },
    {
      "cell_type": "code",
      "source": [
        "def model(t_u, w2, w1, b):\n",
        "  return w2 * t_u ** 2 + w1 * t_u + b"
      ],
      "metadata": {
        "id": "QCCB6ygZJCpw"
      },
      "execution_count": 34,
      "outputs": []
    },
    {
      "cell_type": "code",
      "source": [
        "def loss_fn(t_p, t_c):\n",
        "  squared_diffs = (t_p - t_c)**2\n",
        "  return squared_diffs.mean()"
      ],
      "metadata": {
        "id": "3FarXoQXpCRT"
      },
      "execution_count": 4,
      "outputs": []
    },
    {
      "cell_type": "code",
      "source": [
        "def training_loop(n_epochs, optimizer, params, t_u, t_c):\n",
        "  for epoch in range(1, n_epochs + 1):\n",
        "    if params.grad is not None:\n",
        "      params.grad.zero_()\n",
        "\n",
        "    t_p = model(t_u, *params)\n",
        "    loss = loss_fn(t_p, t_c)\n",
        "\n",
        "    optimizer.zero_grad()\n",
        "    loss.backward()\n",
        "    optimizer.step()\n",
        "\n",
        "    if epoch % 500 == 0:\n",
        "     print('Epoch %d, Loss %f' % (epoch, float(loss)))\n",
        "  return params\n"
      ],
      "metadata": {
        "id": "gIbrG3EfwjN4"
      },
      "execution_count": 53,
      "outputs": []
    },
    {
      "cell_type": "code",
      "source": [
        "# SGD Optimizer:\n",
        "# Learning Rate 0.1\n",
        "params = torch.tensor([1.0, 1.0, 0.0], requires_grad = True)\n",
        "learning_rate = 1e-1\n",
        "optimizer = optim.SGD([params], lr = learning_rate)\n",
        "\n",
        "best_Model = training_loop(n_epochs = 5000, optimizer = optimizer, params = params, t_u = t_un, t_c = t_c)"
      ],
      "metadata": {
        "colab": {
          "base_uri": "https://localhost:8080/"
        },
        "id": "oCMwMutNtA01",
        "outputId": "6fc29962-2c6c-4f43-ad8f-dd770b14f4d2"
      },
      "execution_count": 63,
      "outputs": [
        {
          "output_type": "stream",
          "name": "stdout",
          "text": [
            "Epoch 500, Loss 2.090720\n",
            "Epoch 1000, Loss 2.090720\n",
            "Epoch 1500, Loss 2.090720\n",
            "Epoch 2000, Loss 2.090720\n",
            "Epoch 2500, Loss 2.090720\n",
            "Epoch 3000, Loss 2.090720\n",
            "Epoch 3500, Loss 2.090720\n",
            "Epoch 4000, Loss 2.090720\n",
            "Epoch 4500, Loss 2.090720\n",
            "Epoch 5000, Loss 2.090720\n"
          ]
        }
      ]
    },
    {
      "cell_type": "code",
      "source": [
        "# SGD Optimizer:\n",
        "# Learning Rate 0.01\n",
        "params = torch.tensor([1.0, 1.0, 0.0], requires_grad = True)\n",
        "learning_rate = 1e-2\n",
        "optimizer = optim.SGD([params], lr = learning_rate)\n",
        "\n",
        "training_loop(n_epochs = 5000, optimizer = optimizer, params = params, t_u = t_un, t_c = t_c)"
      ],
      "metadata": {
        "colab": {
          "base_uri": "https://localhost:8080/"
        },
        "id": "qVy-63HEAAIq",
        "outputId": "151c5ba2-bfa6-4ee4-8164-682d67595a84"
      },
      "execution_count": 77,
      "outputs": [
        {
          "output_type": "stream",
          "name": "stdout",
          "text": [
            "Epoch 500, Loss 2.092286\n",
            "Epoch 1000, Loss 2.090720\n",
            "Epoch 1500, Loss 2.090719\n",
            "Epoch 2000, Loss 2.090719\n",
            "Epoch 2500, Loss 2.090719\n",
            "Epoch 3000, Loss 2.090719\n",
            "Epoch 3500, Loss 2.090719\n",
            "Epoch 4000, Loss 2.090719\n",
            "Epoch 4500, Loss 2.090719\n",
            "Epoch 5000, Loss 2.090719\n"
          ]
        },
        {
          "output_type": "execute_result",
          "data": {
            "text/plain": [
              "tensor([0.8019, 9.1034, 9.7710], requires_grad=True)"
            ]
          },
          "metadata": {},
          "execution_count": 77
        }
      ]
    },
    {
      "cell_type": "code",
      "source": [
        "# SGD Optimizer:\n",
        "# Learning Rate 0.001\n",
        "params = torch.tensor([1.0, 1.0, 0.0], requires_grad = True)\n",
        "learning_rate = 1e-3\n",
        "optimizer = optim.SGD([params], lr = learning_rate)\n",
        "\n",
        "training_loop(n_epochs = 5000, optimizer = optimizer, params = params, t_u = t_un, t_c = t_c)"
      ],
      "metadata": {
        "colab": {
          "base_uri": "https://localhost:8080/"
        },
        "id": "5rsC0Nm-ACF7",
        "outputId": "b447e9a7-0861-413e-e7ec-dd0a11bd9b30"
      },
      "execution_count": 76,
      "outputs": [
        {
          "output_type": "stream",
          "name": "stdout",
          "text": [
            "Epoch 500, Loss 25.740374\n",
            "Epoch 1000, Loss 8.287434\n",
            "Epoch 1500, Loss 3.992266\n",
            "Epoch 2000, Loss 2.734116\n",
            "Epoch 2500, Loss 2.320184\n",
            "Epoch 3000, Loss 2.174658\n",
            "Epoch 3500, Loss 2.121781\n",
            "Epoch 4000, Loss 2.102272\n",
            "Epoch 4500, Loss 2.095026\n",
            "Epoch 5000, Loss 2.092327\n"
          ]
        },
        {
          "output_type": "execute_result",
          "data": {
            "text/plain": [
              "tensor([0.8296, 9.1075, 9.7213], requires_grad=True)"
            ]
          },
          "metadata": {},
          "execution_count": 76
        }
      ]
    },
    {
      "cell_type": "code",
      "source": [
        "# SGD Optimizer:\n",
        "# Learning Rate 0.0001\n",
        "params = torch.tensor([1.0, 1.0, 0.0], requires_grad = True)\n",
        "learning_rate = 1e-4\n",
        "optimizer = optim.SGD([params], lr = learning_rate)\n",
        "\n",
        "training_loop(n_epochs = 5000, optimizer = optimizer, params = params, t_u = t_un, t_c = t_c)"
      ],
      "metadata": {
        "colab": {
          "base_uri": "https://localhost:8080/"
        },
        "id": "-jN88jSrAHhq",
        "outputId": "891d8890-7e88-441a-bc98-d873c91e8d78"
      },
      "execution_count": 75,
      "outputs": [
        {
          "output_type": "stream",
          "name": "stdout",
          "text": [
            "Epoch 500, Loss 119.458710\n",
            "Epoch 1000, Loss 95.091667\n",
            "Epoch 1500, Loss 77.399010\n",
            "Epoch 2000, Loss 64.135345\n",
            "Epoch 2500, Loss 53.900246\n",
            "Epoch 3000, Loss 45.803623\n",
            "Epoch 3500, Loss 39.266747\n",
            "Epoch 4000, Loss 33.902706\n",
            "Epoch 4500, Loss 29.445086\n",
            "Epoch 5000, Loss 25.704418\n"
          ]
        },
        {
          "output_type": "execute_result",
          "data": {
            "text/plain": [
              "tensor([2.9060, 5.9345, 5.0918], requires_grad=True)"
            ]
          },
          "metadata": {},
          "execution_count": 75
        }
      ]
    },
    {
      "cell_type": "code",
      "source": [
        "# ADAM Optimizer\n",
        "# Learning Rate 0.1\n",
        "params = torch.tensor([1.0, 1.0, 0.0], requires_grad = True)\n",
        "learning_rate = 1e-1\n",
        "optimizer = optim.Adam([params], lr = learning_rate)\n",
        "\n",
        "training_loop(n_epochs = 5000, optimizer = optimizer, params = params, t_u = t_un, t_c = t_c)"
      ],
      "metadata": {
        "colab": {
          "base_uri": "https://localhost:8080/"
        },
        "id": "vjapn8jpktCP",
        "outputId": "62ac264d-7480-4d16-af09-478754664c52"
      },
      "execution_count": 74,
      "outputs": [
        {
          "output_type": "stream",
          "name": "stdout",
          "text": [
            "Epoch 500, Loss 2.090720\n",
            "Epoch 1000, Loss 2.090720\n",
            "Epoch 1500, Loss 2.090720\n",
            "Epoch 2000, Loss 2.090720\n",
            "Epoch 2500, Loss 2.090720\n",
            "Epoch 3000, Loss 2.090720\n",
            "Epoch 3500, Loss 2.090720\n",
            "Epoch 4000, Loss 2.090720\n",
            "Epoch 4500, Loss 2.090719\n",
            "Epoch 5000, Loss 2.090719\n"
          ]
        },
        {
          "output_type": "execute_result",
          "data": {
            "text/plain": [
              "tensor([0.8019, 9.1033, 9.7710], requires_grad=True)"
            ]
          },
          "metadata": {},
          "execution_count": 74
        }
      ]
    },
    {
      "cell_type": "code",
      "source": [
        "# ADAM Optimizer\n",
        "# Learning Rate 0.01\n",
        "params = torch.tensor([1.0, 1.0, 0.0], requires_grad = True)\n",
        "learning_rate = 1e-2\n",
        "optimizer = optim.Adam([params], lr = learning_rate)\n",
        "\n",
        "training_loop(n_epochs = 5000, optimizer = optimizer, params = params, t_u = t_un, t_c = t_c)"
      ],
      "metadata": {
        "colab": {
          "base_uri": "https://localhost:8080/"
        },
        "id": "Gbykisp5APr9",
        "outputId": "5a5141ad-d613-45d6-cd70-417711b76144"
      },
      "execution_count": 73,
      "outputs": [
        {
          "output_type": "stream",
          "name": "stdout",
          "text": [
            "Epoch 500, Loss 37.810387\n",
            "Epoch 1000, Loss 10.248041\n",
            "Epoch 1500, Loss 3.446221\n",
            "Epoch 2000, Loss 2.239089\n",
            "Epoch 2500, Loss 2.099088\n",
            "Epoch 3000, Loss 2.090908\n",
            "Epoch 3500, Loss 2.090721\n",
            "Epoch 4000, Loss 2.090719\n",
            "Epoch 4500, Loss 2.090720\n",
            "Epoch 5000, Loss 2.090720\n"
          ]
        },
        {
          "output_type": "execute_result",
          "data": {
            "text/plain": [
              "tensor([0.8019, 9.1034, 9.7710], requires_grad=True)"
            ]
          },
          "metadata": {},
          "execution_count": 73
        }
      ]
    },
    {
      "cell_type": "code",
      "source": [
        "# ADAM Optimizer\n",
        "# Learning Rate 0.001\n",
        "params = torch.tensor([1.0, 1.0, 0.0], requires_grad = True)\n",
        "learning_rate = 1e-3\n",
        "optimizer = optim.Adam([params], lr = learning_rate)\n",
        "\n",
        "training_loop(n_epochs = 5000, optimizer = optimizer, params = params, t_u = t_un, t_c = t_c)"
      ],
      "metadata": {
        "colab": {
          "base_uri": "https://localhost:8080/"
        },
        "id": "7-NbBjw-AQQq",
        "outputId": "82e037c8-b36a-46e7-9b9b-fe6455b14592"
      },
      "execution_count": 72,
      "outputs": [
        {
          "output_type": "stream",
          "name": "stdout",
          "text": [
            "Epoch 500, Loss 131.288879\n",
            "Epoch 1000, Loss 112.093361\n",
            "Epoch 1500, Loss 95.976517\n",
            "Epoch 2000, Loss 82.460251\n",
            "Epoch 2500, Loss 71.117157\n",
            "Epoch 3000, Loss 61.545887\n",
            "Epoch 3500, Loss 53.358559\n",
            "Epoch 4000, Loss 46.194298\n",
            "Epoch 4500, Loss 39.766365\n",
            "Epoch 5000, Loss 33.912151\n"
          ]
        },
        {
          "output_type": "execute_result",
          "data": {
            "text/plain": [
              "tensor([3.1722, 5.5004, 4.2494], requires_grad=True)"
            ]
          },
          "metadata": {},
          "execution_count": 72
        }
      ]
    },
    {
      "cell_type": "code",
      "source": [
        "# ADAM Optimizer\n",
        "# Learning Rate 0.0001\n",
        "params = torch.tensor([1.0, 1.0, 0.0], requires_grad = True)\n",
        "learning_rate = 1e-4\n",
        "optimizer = optim.Adam([params], lr = learning_rate)\n",
        "\n",
        "training_loop(n_epochs = 5000, optimizer = optimizer, params = params, t_u = t_un, t_c = t_c)"
      ],
      "metadata": {
        "colab": {
          "base_uri": "https://localhost:8080/"
        },
        "id": "GYR0hG59AQ6W",
        "outputId": "3f143744-4491-4e19-fd7a-f94c1f4496e9"
      },
      "execution_count": 71,
      "outputs": [
        {
          "output_type": "stream",
          "name": "stdout",
          "text": [
            "Epoch 500, Loss 151.616013\n",
            "Epoch 1000, Loss 149.195984\n",
            "Epoch 1500, Loss 146.813461\n",
            "Epoch 2000, Loss 144.466370\n",
            "Epoch 2500, Loss 142.152756\n",
            "Epoch 3000, Loss 139.871277\n",
            "Epoch 3500, Loss 137.620499\n",
            "Epoch 4000, Loss 135.399673\n",
            "Epoch 4500, Loss 133.207901\n",
            "Epoch 5000, Loss 131.044891\n"
          ]
        },
        {
          "output_type": "execute_result",
          "data": {
            "text/plain": [
              "tensor([1.4863, 1.4962, 0.4931], requires_grad=True)"
            ]
          },
          "metadata": {},
          "execution_count": 71
        }
      ]
    },
    {
      "cell_type": "code",
      "source": [
        "Complete_Model = model(0.01*t_u, *best_Model)\n",
        "given_Model = (5.3671 * (t_u*0.1) - 17.3012)\n",
        "\n",
        "t_u_final, num = torch.sort(t_u)\n",
        "final_Model, num = torch.sort(Complete_Model)\n",
        "given_final_Model, num = torch.sort(given_Model)\n",
        "\n",
        "plt.plot(t_u_final.detach().numpy(), final_Model.detach().numpy(), label = \"Non-Linear Model\", c = \"b\", marker = \"D\")\n",
        "plt.plot(t_u_final.detach().numpy(), given_final_Model.detach().numpy(), label = \"Linear Model\", c = 'y', marker = \"o\")\n",
        "plt.scatter(t_u.detach().numpy(), t_c.detach().numpy(), label = \"Ground Truth\", c = 'r', marker = 'x')\n",
        "plt.xlabel(\"Temperature (Fahrenheit)\")\n",
        "plt.ylabel(\"Temperature (Celcius)\")\n",
        "plt.legend()\n",
        "plt.title(\"Nonlinear vs Linear Model\")\n",
        "plt.show()"
      ],
      "metadata": {
        "colab": {
          "base_uri": "https://localhost:8080/",
          "height": 472
        },
        "id": "blQXXpmbvJzE",
        "outputId": "88c4a6a8-76f6-4c69-b8d8-03ccbf5b7a8e"
      },
      "execution_count": 70,
      "outputs": [
        {
          "output_type": "display_data",
          "data": {
            "text/plain": [
              "<Figure size 640x480 with 1 Axes>"
            ],
            "image/png": "[encoded data removed]"
          },
          "metadata": {}
        }
      ]
    }
  ]
}